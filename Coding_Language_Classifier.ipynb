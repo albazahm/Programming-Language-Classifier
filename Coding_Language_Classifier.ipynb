{
  "nbformat": 4,
  "nbformat_minor": 0,
  "metadata": {
    "accelerator": "GPU",
    "colab": {
      "name": "Coding Language Classifier.ipynb",
      "provenance": [],
      "collapsed_sections": [],
      "toc_visible": true
    },
    "kernelspec": {
      "display_name": "Python 3.7.1 64-bit ('base': conda)",
      "language": "python",
      "name": "python37164bitbasecondacf0547d2049f46e681e648dd6988e47e"
    },
    "language_info": {
      "codemirror_mode": {
        "name": "ipython",
        "version": 3
      },
      "file_extension": ".py",
      "mimetype": "text/x-python",
      "name": "python",
      "nbconvert_exporter": "python",
      "pygments_lexer": "ipython3",
      "version": "3.7.1"
    }
  },
  "cells": [
    {
      "cell_type": "code",
      "metadata": {
        "id": "Q1G1HXNbxWlU",
        "outputId": "6651dcaf-cab9-4ee8-f501-95955b8c2e35",
        "colab": {
          "base_uri": "https://localhost:8080/"
        }
      },
      "source": [
        "from google.colab import drive\n",
        "drive.mount('/content/drive')"
      ],
      "execution_count": null,
      "outputs": [
        {
          "output_type": "stream",
          "text": [
            "Drive already mounted at /content/drive; to attempt to forcibly remount, call drive.mount(\"/content/drive\", force_remount=True).\n"
          ],
          "name": "stdout"
        }
      ]
    },
    {
      "cell_type": "markdown",
      "metadata": {
        "id": "eUaT2zb77RYI"
      },
      "source": [
        "**LOADING LIBRARIES**"
      ]
    },
    {
      "cell_type": "code",
      "metadata": {
        "id": "LCNp4B9Nw_5k"
      },
      "source": [
        "import pandas as pd\n",
        "import numpy as np\n",
        "from sklearn.metrics import confusion_matrix, classification_report\n",
        "from sklearn.preprocessing import LabelEncoder\n",
        "from sklearn.model_selection import train_test_split\n",
        "from sklearn.feature_extraction.text import TfidfVectorizer\n",
        "from sklearn.svm import SVC\n",
        "import seaborn as sns\n",
        "import string\n",
        "import pickle\n",
        "import matplotlib.pyplot as plt\n",
        "import re\n",
        "import os\n",
        "import joblib"
      ],
      "execution_count": null,
      "outputs": []
    },
    {
      "cell_type": "markdown",
      "metadata": {
        "id": "keKHF1pk7Yht"
      },
      "source": [
        "**LOADING DATA**"
      ]
    },
    {
      "cell_type": "code",
      "metadata": {
        "id": "ltvbhXZshB8H"
      },
      "source": [
        "#loading data into dataframe\n",
        "with open('./drive/My Drive/RosettaCodeData.csv', errors='ignore') as f:\n",
        "  data = pd.read_csv(f)"
      ],
      "execution_count": null,
      "outputs": []
    },
    {
      "cell_type": "code",
      "metadata": {
        "id": "2ax6izyHhQ12",
        "outputId": "1703cddd-ba37-42fb-cb04-27ccedb2270b",
        "colab": {
          "base_uri": "https://localhost:8080/",
          "height": 204
        }
      },
      "source": [
        "#previewing dataframe\n",
        "data.head(5)"
      ],
      "execution_count": null,
      "outputs": [
        {
          "output_type": "execute_result",
          "data": {
            "text/html": [
              "<div>\n",
              "<style scoped>\n",
              "    .dataframe tbody tr th:only-of-type {\n",
              "        vertical-align: middle;\n",
              "    }\n",
              "\n",
              "    .dataframe tbody tr th {\n",
              "        vertical-align: top;\n",
              "    }\n",
              "\n",
              "    .dataframe thead th {\n",
              "        text-align: right;\n",
              "    }\n",
              "</style>\n",
              "<table border=\"1\" class=\"dataframe\">\n",
              "  <thead>\n",
              "    <tr style=\"text-align: right;\">\n",
              "      <th></th>\n",
              "      <th>language</th>\n",
              "      <th>code</th>\n",
              "    </tr>\n",
              "  </thead>\n",
              "  <tbody>\n",
              "    <tr>\n",
              "      <th>0</th>\n",
              "      <td>C</td>\n",
              "      <td>#ifndef _CSEQUENCE_H br #define _CSEQUENCE_H b...</td>\n",
              "    </tr>\n",
              "    <tr>\n",
              "      <th>1</th>\n",
              "      <td>C</td>\n",
              "      <td>#include \"csequence.h\" br   br static   double...</td>\n",
              "    </tr>\n",
              "    <tr>\n",
              "      <th>2</th>\n",
              "      <td>C</td>\n",
              "      <td>#ifndef _WRITETIMINGS_H br #define _WRITETIMIN...</td>\n",
              "    </tr>\n",
              "    <tr>\n",
              "      <th>3</th>\n",
              "      <td>C</td>\n",
              "      <td>#include &lt;stdio.h&gt; br #include &lt;stdlib.h&gt; br  ...</td>\n",
              "    </tr>\n",
              "    <tr>\n",
              "      <th>4</th>\n",
              "      <td>C</td>\n",
              "      <td>#include &lt;stdio.h&gt; br #include &lt;stdlib.h&gt; br #...</td>\n",
              "    </tr>\n",
              "  </tbody>\n",
              "</table>\n",
              "</div>"
            ],
            "text/plain": [
              "  language                                               code\n",
              "0        C  #ifndef _CSEQUENCE_H br #define _CSEQUENCE_H b...\n",
              "1        C  #include \"csequence.h\" br   br static   double...\n",
              "2        C  #ifndef _WRITETIMINGS_H br #define _WRITETIMIN...\n",
              "3        C  #include <stdio.h> br #include <stdlib.h> br  ...\n",
              "4        C  #include <stdio.h> br #include <stdlib.h> br #..."
            ]
          },
          "metadata": {
            "tags": []
          },
          "execution_count": 4
        }
      ]
    },
    {
      "cell_type": "markdown",
      "metadata": {
        "id": "8isnaEKj7dLU"
      },
      "source": [
        "**PREPROCESSING**"
      ]
    },
    {
      "cell_type": "code",
      "metadata": {
        "id": "eWVtXW7LKIuU"
      },
      "source": [
        "#drop rows with missing values\n",
        "data = data.dropna()"
      ],
      "execution_count": null,
      "outputs": []
    },
    {
      "cell_type": "code",
      "metadata": {
        "id": "3Nrka32Bw_5y",
        "outputId": "7fa12af2-9884-4afc-aba0-246efe0e892d",
        "colab": {
          "base_uri": "https://localhost:8080/"
        }
      },
      "source": [
        "#previewing value counts of each programming language\n",
        "data['language'].value_counts(normalize=True)"
      ],
      "execution_count": null,
      "outputs": [
        {
          "output_type": "execute_result",
          "data": {
            "text/plain": [
              "Python         0.073676\n",
              "Haskell        0.059352\n",
              "Perl           0.053046\n",
              "Go             0.049825\n",
              "C              0.048557\n",
              "Ruby           0.046810\n",
              "Java           0.045610\n",
              "JavaScript     0.045268\n",
              "Julia          0.044342\n",
              "C++            0.041909\n",
              "Racket         0.040367\n",
              "Ada            0.040127\n",
              "C#             0.038654\n",
              "Scala          0.036975\n",
              "Kotlin         0.035433\n",
              "Fortran        0.029881\n",
              "PowerShell     0.029676\n",
              "Rust           0.028408\n",
              "Groovy         0.026557\n",
              "R              0.025290\n",
              "Mathematica    0.022959\n",
              "Swift          0.021383\n",
              "PureBasic      0.021315\n",
              "AWK            0.020184\n",
              "UNIX Shell     0.019258\n",
              "PHP            0.019224\n",
              "COBOL          0.013296\n",
              "VBA            0.012542\n",
              "MATLAB         0.008396\n",
              "SQL PL         0.001679\n",
              "Name: language, dtype: float64"
            ]
          },
          "metadata": {
            "tags": []
          },
          "execution_count": 6
        }
      ]
    },
    {
      "cell_type": "code",
      "metadata": {
        "id": "Dv7ktguew_52"
      },
      "source": [
        "def preprocess(text):\n",
        "    \"\"\"\n",
        "    Function to preprocess a row of text in dataframe\n",
        "\n",
        "    Parameters\n",
        "    ----------\n",
        "    text: str\n",
        "      a row of text to preprocess\n",
        "\n",
        "    Returns\n",
        "    -------\n",
        "    text: str\n",
        "      a row of preprocessed text\n",
        "    \"\"\"\n",
        "    #cast row as string\n",
        "    text = str(text)\n",
        "    #replace complex string for comma (complex string was used to avoid csv interpretting commas as new line)\n",
        "    text = text.replace('!@#$%^&&^%$#@!', ',')\n",
        "    #remove characters that are non-english, non-numeric or not a space\n",
        "    text = ''.join([t for t in text if t in string.printable or t==' '])\n",
        "    #wrap all punctuation by space\n",
        "    text = re.sub(fr'([{string.punctuation}])', r' \\1 ', text)\n",
        "    #replace any instance of 2 or more spaces with one space\n",
        "    text = re.sub(r' {2,}', ' ', text)\n",
        "    #replace br html with newline character\n",
        "    text = text.replace(' br ', ' \\n ')\n",
        "    #split text on spaces\n",
        "    text = text.split(' ')\n",
        "    #remove empty strings\n",
        "    text = [t for t in text if t!='']\n",
        "    \n",
        "    return text"
      ],
      "execution_count": null,
      "outputs": []
    },
    {
      "cell_type": "code",
      "metadata": {
        "id": "InNvKx10w_54"
      },
      "source": [
        "#apply preprocessing to dataframe\n",
        "data['code_clean'] = data['code'].apply(preprocess)"
      ],
      "execution_count": null,
      "outputs": []
    },
    {
      "cell_type": "code",
      "metadata": {
        "id": "io8RUAY8w_58",
        "outputId": "bf25a4e6-5590-4b5c-e8bf-e9f76375e219",
        "colab": {
          "base_uri": "https://localhost:8080/"
        }
      },
      "source": [
        "#previewing preprocessed data\n",
        "data['code_clean']"
      ],
      "execution_count": null,
      "outputs": [
        {
          "output_type": "execute_result",
          "data": {
            "text/plain": [
              "0        [#, ifndef, _, CSEQUENCE, _, H, \\n, #, define,...\n",
              "1        [#, include, \", csequence, ., h, \", \\n, br, st...\n",
              "2        [#, ifndef, _, WRITETIMINGS, _, H, \\n, #, defi...\n",
              "3        [#, include, <, stdio, ., h, >, \\n, #, include...\n",
              "4        [#, include, <, stdio, ., h, >, \\n, #, include...\n",
              "                               ...                        \n",
              "29225    [/, *, query, -, rb, ., c, *, /, \\n, #, includ...\n",
              "29226    [#, Rakefile, \\n, br, #, To, build, and, run, ...\n",
              "29227    [/, *, Query, ., scala, *, /, \\n, object, Quer...\n",
              "29228    [/, *, query, -, jni, ., c, *, /, \\n, #, inclu...\n",
              "29229    [#, Makefile, \\n, br, #, Edit, these, lines, t...\n",
              "Name: code_clean, Length: 29182, dtype: object"
            ]
          },
          "metadata": {
            "tags": []
          },
          "execution_count": 9
        }
      ]
    },
    {
      "cell_type": "code",
      "metadata": {
        "id": "L-AnQaZ1w_6J"
      },
      "source": [
        "#label encoding the target variable\n",
        "encoder = LabelEncoder()\n",
        "data['language'] = encoder.fit_transform(data['language'])"
      ],
      "execution_count": null,
      "outputs": []
    },
    {
      "cell_type": "code",
      "metadata": {
        "id": "6m0Pl0oghfI-"
      },
      "source": [
        "#saving the encoder as a pickle file\n",
        "with open(\"./drive/My Drive/encoder.p\", \"wb\") as f:\n",
        "  pickle.dump(encoder, f)"
      ],
      "execution_count": null,
      "outputs": []
    },
    {
      "cell_type": "code",
      "metadata": {
        "id": "7GqF3Qdmw_6L"
      },
      "source": [
        "#transforming dependent and independent variable to arrays\n",
        "X = data['code_clean'].values\n",
        "y = data['language'].values"
      ],
      "execution_count": null,
      "outputs": []
    },
    {
      "cell_type": "code",
      "metadata": {
        "id": "0xHlCeRQw_6S"
      },
      "source": [
        "#creating training and testing sets\n",
        "X_train, X_test, Y_train, Y_test = train_test_split(X, \n",
        "                                                    y, \n",
        "                                                    test_size=0.2, \n",
        "                                                    stratify=y, \n",
        "                                                    random_state=100)"
      ],
      "execution_count": null,
      "outputs": []
    },
    {
      "cell_type": "code",
      "metadata": {
        "id": "9lKJtDGrY-es"
      },
      "source": [
        "#adding placeholder tokenizer\n",
        "#since the data is already tokenized, we don't want to tokenize again so this identity tokenizer will simply return the data as is\n",
        "def identity_tokenizer(text):\n",
        "    return text"
      ],
      "execution_count": null,
      "outputs": []
    },
    {
      "cell_type": "code",
      "metadata": {
        "id": "8e9Vo5dQXyg5"
      },
      "source": [
        "#initializing the Term Frequency - Inverse Document Frequency Vectorizer\n",
        "tfidf_vectorizer = TfidfVectorizer(tokenizer=identity_tokenizer, lowercase=False, max_df=0.25)"
      ],
      "execution_count": null,
      "outputs": []
    },
    {
      "cell_type": "code",
      "metadata": {
        "id": "qScynbBeXykx"
      },
      "source": [
        "#fitting on and transform the training data\n",
        "X_tf_train = tfidf_vectorizer.fit_transform(X_train)"
      ],
      "execution_count": null,
      "outputs": []
    },
    {
      "cell_type": "code",
      "metadata": {
        "id": "kY7RBrDpXyfE"
      },
      "source": [
        "#transforming the test data\n",
        "X_tf_test = tfidf_vectorizer.transform(X_test)"
      ],
      "execution_count": null,
      "outputs": []
    },
    {
      "cell_type": "code",
      "metadata": {
        "id": "E1ZhSt3W-iIS"
      },
      "source": [
        "#saving vectorizer as pickle file\n",
        "with open('./drive/My Drive/vectorizer.p', 'wb') as f:\n",
        "  pickle.dump(tfidf_vectorizer, f)"
      ],
      "execution_count": null,
      "outputs": []
    },
    {
      "cell_type": "markdown",
      "metadata": {
        "id": "LU9wuXoyw_6z"
      },
      "source": [
        "### Model Building"
      ]
    },
    {
      "cell_type": "code",
      "metadata": {
        "id": "7J11ZrhUb4va"
      },
      "source": [
        "#Initializing instance of Support Vector Machine Classifier \n",
        "model = SVC(C=1, \n",
        "            kernel='linear', \n",
        "            verbose=True, \n",
        "            probability=True)"
      ],
      "execution_count": null,
      "outputs": []
    },
    {
      "cell_type": "code",
      "metadata": {
        "id": "gdehVBnrb40m",
        "outputId": "e4fadb7a-3fbe-4401-e61f-8cf0fcd6345c",
        "colab": {
          "base_uri": "https://localhost:8080/"
        }
      },
      "source": [
        "#Fitting model on training data\n",
        "model.fit(X_tf_train, Y_train)"
      ],
      "execution_count": null,
      "outputs": [
        {
          "output_type": "stream",
          "text": [
            "[LibSVM]"
          ],
          "name": "stdout"
        },
        {
          "output_type": "execute_result",
          "data": {
            "text/plain": [
              "SVC(C=1, break_ties=False, cache_size=200, class_weight=None, coef0=0.0,\n",
              "    decision_function_shape='ovr', degree=3, gamma='scale', kernel='linear',\n",
              "    max_iter=-1, probability=True, random_state=None, shrinking=True, tol=0.001,\n",
              "    verbose=True)"
            ]
          },
          "metadata": {
            "tags": []
          },
          "execution_count": 20
        }
      ]
    },
    {
      "cell_type": "code",
      "metadata": {
        "id": "o3rcnjwZb44p",
        "outputId": "ff41e214-0290-4632-efe8-080eafabf78d",
        "colab": {
          "base_uri": "https://localhost:8080/"
        }
      },
      "source": [
        "#Scoring model on training data\n",
        "print(f'Training accuracy: {np.round(100*model.score(X_tf_train, Y_train), 2)}%')"
      ],
      "execution_count": null,
      "outputs": [
        {
          "output_type": "stream",
          "text": [
            "Training accuracy: 97.44%\n"
          ],
          "name": "stdout"
        }
      ]
    },
    {
      "cell_type": "code",
      "metadata": {
        "id": "Oqbg1J6Wb4zB",
        "outputId": "d2bed1a5-c779-4064-f842-b95412d62791",
        "colab": {
          "base_uri": "https://localhost:8080/"
        }
      },
      "source": [
        "#scoring model on testing data\n",
        "print(f'Testing accuracy: {np.round(100*model.score(X_tf_test, Y_test), 2)}%')"
      ],
      "execution_count": null,
      "outputs": [
        {
          "output_type": "stream",
          "text": [
            "Testing accuracy: 89.57%\n"
          ],
          "name": "stdout"
        }
      ]
    },
    {
      "cell_type": "code",
      "metadata": {
        "id": "0hTbz8ydWGWe",
        "outputId": "e576c386-7d45-49fc-e4a4-ad82731e4999",
        "colab": {
          "base_uri": "https://localhost:8080/"
        }
      },
      "source": [
        "#testing model on random samples from online (in sample folder)\n",
        "DIRECTORY = './drive/My Drive/sample'\n",
        "\n",
        "#obtaining filenames from directory\n",
        "filenames = os.listdir(DIRECTORY)\n",
        "#isolating files with .txt extension\n",
        "filenames = [f for f in filenames if f.endswith('.txt')]\n",
        "#initializing empty list of code snippets\n",
        "code = list()\n",
        "#iterating over files\n",
        "for f in filenames:\n",
        "  #combine filename with directory name to get filepath\n",
        "  path = os.path.join(DIRECTORY, f)\n",
        "  #opening file\n",
        "  with open(path, 'rb') as file:\n",
        "    #reading file\n",
        "    sample = file.readlines()\n",
        "  #decode binary from file and turn it to string\n",
        "  sample = [i.decode() for i in sample]\n",
        "  #replace new-line characters with br\n",
        "  pattern = re.compile(r'$\\n')\n",
        "  sample = [pattern.sub(' br ', i) for i in sample]\n",
        "  sample = [re.sub('\\n', ' br ', i) if i=='\\n' else i for i in sample]\n",
        "  #join lines to one string\n",
        "  sample = ' '.join(sample)\n",
        "  #run the preprocessing on string\n",
        "  sample = preprocess(sample)\n",
        "  #append string to code list\n",
        "  code.append(sample)\n",
        "\n",
        "#transform preprocessed code snippets using vectorizer\n",
        "code = tfidf_vectorizer.transform(code)\n",
        "#use model to predict vectorized code snippets\n",
        "pred = model.predict(code)\n",
        "#printing prediction for each filename\n",
        "for f, p in zip(filenames, pred):\n",
        "  print(f'File: {f} \\nPrediction: {encoder.classes_[p]}\\n')"
      ],
      "execution_count": null,
      "outputs": [
        {
          "output_type": "stream",
          "text": [
            "File: awk.txt \n",
            "Prediction: AWK\n",
            "\n",
            "File: unix.txt \n",
            "Prediction: UNIX Shell\n",
            "\n",
            "File: R.txt \n",
            "Prediction: R\n",
            "\n",
            "File: python.txt \n",
            "Prediction: Python\n",
            "\n",
            "File: mathematica.txt \n",
            "Prediction: Mathematica\n",
            "\n",
            "File: pure.txt \n",
            "Prediction: PureBasic\n",
            "\n",
            "File: fortran.txt \n",
            "Prediction: Fortran\n",
            "\n",
            "File: COBOL.txt \n",
            "Prediction: COBOL\n",
            "\n",
            "File: powershell.txt \n",
            "Prediction: PowerShell\n",
            "\n",
            "File: sql.txt \n",
            "Prediction: SQL PL\n",
            "\n",
            "File: rust.txt \n",
            "Prediction: Rust\n",
            "\n",
            "File: go.txt \n",
            "Prediction: Go\n",
            "\n",
            "File: php.txt \n",
            "Prediction: PHP\n",
            "\n",
            "File: python2.txt \n",
            "Prediction: Python\n",
            "\n",
            "File: kotlin.txt \n",
            "Prediction: Kotlin\n",
            "\n",
            "File: julia.txt \n",
            "Prediction: Julia\n",
            "\n",
            "File: scala.txt \n",
            "Prediction: Scala\n",
            "\n",
            "File: ada.txt \n",
            "Prediction: Ada\n",
            "\n",
            "File: haskell.txt \n",
            "Prediction: Haskell\n",
            "\n",
            "File: swift.txt \n",
            "Prediction: Swift\n",
            "\n"
          ],
          "name": "stdout"
        }
      ]
    },
    {
      "cell_type": "markdown",
      "metadata": {
        "id": "uMy28DoI90XT"
      },
      "source": [
        "**SAVING MODEL**"
      ]
    },
    {
      "cell_type": "code",
      "metadata": {
        "id": "ij7YapsHlpR7"
      },
      "source": [
        "#saving model as pickle file\n",
        "with open('./drive/My Drive/model.p', 'wb') as f:\n",
        "  pickle.dump(model, f)"
      ],
      "execution_count": null,
      "outputs": []
    },
    {
      "cell_type": "code",
      "metadata": {
        "id": "_wkg4fOt00Bu",
        "outputId": "ed7d9bed-851b-4c7d-932c-c777f6fcb6f3",
        "colab": {
          "base_uri": "https://localhost:8080/"
        }
      },
      "source": [
        "#saving model as joblib file\n",
        "joblib.dump(model, './drive/My Drive/model.joblib') "
      ],
      "execution_count": null,
      "outputs": [
        {
          "output_type": "execute_result",
          "data": {
            "text/plain": [
              "['./drive/My Drive/model.joblib']"
            ]
          },
          "metadata": {
            "tags": []
          },
          "execution_count": 27
        }
      ]
    },
    {
      "cell_type": "markdown",
      "metadata": {
        "id": "Oe1BFVG494uB"
      },
      "source": [
        "**MODEL EVALUTION**"
      ]
    },
    {
      "cell_type": "code",
      "metadata": {
        "id": "omZzmgEYw_7H"
      },
      "source": [
        "#predicting test set\n",
        "Y_pred = model.predict(X_tf_test)"
      ],
      "execution_count": null,
      "outputs": []
    },
    {
      "cell_type": "code",
      "metadata": {
        "id": "UT_QC3fFw_7J"
      },
      "source": [
        "#obtaining label names from encoder\n",
        "labels = list(encoder.classes_)"
      ],
      "execution_count": null,
      "outputs": []
    },
    {
      "cell_type": "code",
      "metadata": {
        "id": "-Us8cYJaw_7L",
        "outputId": "44e6df65-c4bf-4c89-f24d-cb7d48a15ca7",
        "colab": {
          "base_uri": "https://localhost:8080/",
          "height": 668
        }
      },
      "source": [
        "#plotting confusion matrix\n",
        "plt.figure(figsize=(10, 10));\n",
        "cm = confusion_matrix(Y_test, Y_pred)\n",
        "mask = np.tri(cm.shape[0], k=-1)\n",
        "mask = np.transpose(mask)\n",
        "plt.title('Confusion Matrix for Coding Languages Classifier', fontsize=20);\n",
        "sns.heatmap(cm, annot=True, mask = mask, fmt='g', xticklabels=labels, yticklabels=labels);"
      ],
      "execution_count": null,
      "outputs": [
        {
          "output_type": "display_data",
          "data": {
            "image/png": "[encoded data removed]",
            "text/plain": [
              "<Figure size 720x720 with 2 Axes>"
            ]
          },
          "metadata": {
            "tags": [],
            "needs_background": "light"
          }
        }
      ]
    },
    {
      "cell_type": "code",
      "metadata": {
        "id": "CRAoFCvqJuxA",
        "outputId": "a40e2a2b-01db-40cb-8c46-bfcea6e297d9",
        "colab": {
          "base_uri": "https://localhost:8080/"
        }
      },
      "source": [
        "#print classification report\n",
        "print(classification_report(Y_test, Y_pred, target_names=labels))"
      ],
      "execution_count": null,
      "outputs": [
        {
          "output_type": "stream",
          "text": [
            "              precision    recall  f1-score   support\n",
            "\n",
            "         AWK       0.95      0.90      0.93       118\n",
            "         Ada       1.00      0.97      0.98       234\n",
            "           C       0.85      0.93      0.88       283\n",
            "          C#       0.94      0.91      0.93       226\n",
            "         C++       0.97      0.91      0.94       245\n",
            "       COBOL       0.99      0.91      0.95        78\n",
            "     Fortran       0.90      0.87      0.89       174\n",
            "          Go       0.99      0.95      0.97       291\n",
            "      Groovy       0.89      0.83      0.86       155\n",
            "     Haskell       0.86      0.89      0.88       346\n",
            "        Java       0.91      0.95      0.93       266\n",
            "  JavaScript       0.91      0.89      0.90       264\n",
            "       Julia       0.84      0.89      0.87       259\n",
            "      Kotlin       0.99      0.96      0.97       207\n",
            "      MATLAB       1.00      0.59      0.74        49\n",
            " Mathematica       0.73      0.77      0.75       134\n",
            "         PHP       0.87      0.84      0.85       112\n",
            "        Perl       0.93      0.91      0.92       310\n",
            "  PowerShell       0.83      0.88      0.86       173\n",
            "   PureBasic       0.99      0.89      0.94       124\n",
            "      Python       0.72      0.92      0.81       430\n",
            "           R       0.75      0.72      0.74       148\n",
            "      Racket       0.97      0.94      0.96       236\n",
            "        Ruby       0.91      0.87      0.89       273\n",
            "        Rust       0.99      0.93      0.96       166\n",
            "      SQL PL       1.00      0.80      0.89        10\n",
            "       Scala       0.96      0.93      0.94       216\n",
            "       Swift       0.91      0.86      0.88       125\n",
            "  UNIX Shell       0.85      0.71      0.78       112\n",
            "         VBA       1.00      0.97      0.99        73\n",
            "\n",
            "    accuracy                           0.90      5837\n",
            "   macro avg       0.91      0.88      0.89      5837\n",
            "weighted avg       0.90      0.90      0.90      5837\n",
            "\n"
          ],
          "name": "stdout"
        }
      ]
    }
  ]
}