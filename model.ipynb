{
  "nbformat": 4,
  "nbformat_minor": 0,
  "metadata": {
    "kernelspec": {
      "display_name": "Python 3.7.1 64-bit ('base': conda)",
      "language": "python",
      "name": "python37164bitbasecondacf0547d2049f46e681e648dd6988e47e"
    },
    "language_info": {
      "codemirror_mode": {
        "name": "ipython",
        "version": 3
      },
      "file_extension": ".py",
      "mimetype": "text/x-python",
      "name": "python",
      "nbconvert_exporter": "python",
      "pygments_lexer": "ipython3",
      "version": "3.7.1"
    },
    "colab": {
      "name": "Coding Language Classifier.ipynb",
      "provenance": [],
      "collapsed_sections": [],
      "toc_visible": true
    },
    "accelerator": "GPU"
  },
  "cells": [
    {
      "cell_type": "code",
      "metadata": {
        "id": "Q1G1HXNbxWlU",
        "outputId": "16db3cfd-bb1c-4e79-873c-358dbca49309",
        "colab": {
          "base_uri": "https://localhost:8080/"
        }
      },
      "source": [
        "from google.colab import drive\n",
        "drive.mount('/content/drive')"
      ],
      "execution_count": null,
      "outputs": [
        {
          "output_type": "stream",
          "text": [
            "Mounted at /content/drive\n"
          ],
          "name": "stdout"
        }
      ]
    },
    {
      "cell_type": "markdown",
      "metadata": {
        "id": "eUaT2zb77RYI"
      },
      "source": [
        "**LOADING LIBRARIES**"
      ]
    },
    {
      "cell_type": "code",
      "metadata": {
        "id": "LCNp4B9Nw_5k"
      },
      "source": [
        "import pandas as pd\n",
        "import tensorflow as tf\n",
        "from tensorflow.keras.layers import *\n",
        "from tensorflow.keras.models import Model, Sequential\n",
        "from tensorflow.keras.preprocessing import text, sequence\n",
        "from tensorflow.keras.metrics import AUC\n",
        "from tensorflow.keras.utils import to_categorical\n",
        "from tensorflow.compat.v1.keras.layers import CuDNNLSTM\n",
        "import numpy as np\n",
        "from sklearn.metrics import confusion_matrix, classification_report\n",
        "from sklearn.preprocessing import LabelEncoder\n",
        "from sklearn.model_selection import train_test_split\n",
        "import seaborn as sns\n",
        "import string\n",
        "import pickle"
      ],
      "execution_count": null,
      "outputs": []
    },
    {
      "cell_type": "markdown",
      "metadata": {
        "id": "keKHF1pk7Yht"
      },
      "source": [
        "**LOADING DATA**"
      ]
    },
    {
      "cell_type": "code",
      "metadata": {
        "id": "cDC99Svzw_5w"
      },
      "source": [
        "#loading dataframe\n",
        "data = pd.read_csv('./drive/My Drive/RosettaCodeData.csv')"
      ],
      "execution_count": null,
      "outputs": []
    },
    {
      "cell_type": "code",
      "metadata": {
        "id": "3Nrka32Bw_5y",
        "outputId": "671d6fa9-52de-4091-c414-7e6d923c3ce1",
        "colab": {
          "base_uri": "https://localhost:8080/",
          "height": 417
        }
      },
      "source": [
        "data"
      ],
      "execution_count": null,
      "outputs": [
        {
          "output_type": "execute_result",
          "data": {
            "text/html": [
              "<div>\n",
              "<style scoped>\n",
              "    .dataframe tbody tr th:only-of-type {\n",
              "        vertical-align: middle;\n",
              "    }\n",
              "\n",
              "    .dataframe tbody tr th {\n",
              "        vertical-align: top;\n",
              "    }\n",
              "\n",
              "    .dataframe thead th {\n",
              "        text-align: right;\n",
              "    }\n",
              "</style>\n",
              "<table border=\"1\" class=\"dataframe\">\n",
              "  <thead>\n",
              "    <tr style=\"text-align: right;\">\n",
              "      <th></th>\n",
              "      <th>language</th>\n",
              "      <th>code</th>\n",
              "    </tr>\n",
              "  </thead>\n",
              "  <tbody>\n",
              "    <tr>\n",
              "      <th>0</th>\n",
              "      <td>C</td>\n",
              "      <td>#include &lt;stdio.h&gt; br #include &lt;order/interpre...</td>\n",
              "    </tr>\n",
              "    <tr>\n",
              "      <th>1</th>\n",
              "      <td>C</td>\n",
              "      <td>#include &lt;stdio.h&gt; br const   int  val  =   2 ...</td>\n",
              "    </tr>\n",
              "    <tr>\n",
              "      <th>2</th>\n",
              "      <td>C#</td>\n",
              "      <td>using   System ; br   br public   static   cla...</td>\n",
              "    </tr>\n",
              "    <tr>\n",
              "      <th>3</th>\n",
              "      <td>C#</td>\n",
              "      <td>. class   public  auto ansi  abstract   sealed...</td>\n",
              "    </tr>\n",
              "    <tr>\n",
              "      <th>4</th>\n",
              "      <td>C#</td>\n",
              "      <td>using   System ; br   br static   class  Progr...</td>\n",
              "    </tr>\n",
              "    <tr>\n",
              "      <th>...</th>\n",
              "      <td>...</td>\n",
              "      <td>...</td>\n",
              "    </tr>\n",
              "    <tr>\n",
              "      <th>17842</th>\n",
              "      <td>Scala</td>\n",
              "      <td>print ( \"Enter a number: \" ) br val  i = Conso...</td>\n",
              "    </tr>\n",
              "    <tr>\n",
              "      <th>17843</th>\n",
              "      <td>Swift</td>\n",
              "      <td>print(\"Enter a string: \"!@#$%^&amp;&amp;^%$#@! termina...</td>\n",
              "    </tr>\n",
              "    <tr>\n",
              "      <th>17844</th>\n",
              "      <td>Swift</td>\n",
              "      <td>print(\"Enter a string: \"!@#$%^&amp;&amp;^%$#@! termina...</td>\n",
              "    </tr>\n",
              "    <tr>\n",
              "      <th>17845</th>\n",
              "      <td>UNIX Shell</td>\n",
              "      <td>#!/bin/sh br   br read  string br read  intege...</td>\n",
              "    </tr>\n",
              "    <tr>\n",
              "      <th>17846</th>\n",
              "      <td>VBA</td>\n",
              "      <td>Public   Sub  text() br     Debug. Print  Inpu...</td>\n",
              "    </tr>\n",
              "  </tbody>\n",
              "</table>\n",
              "<p>17847 rows × 2 columns</p>\n",
              "</div>"
            ],
            "text/plain": [
              "         language                                               code\n",
              "0               C  #include <stdio.h> br #include <order/interpre...\n",
              "1               C  #include <stdio.h> br const   int  val  =   2 ...\n",
              "2              C#  using   System ; br   br public   static   cla...\n",
              "3              C#  . class   public  auto ansi  abstract   sealed...\n",
              "4              C#  using   System ; br   br static   class  Progr...\n",
              "...           ...                                                ...\n",
              "17842       Scala  print ( \"Enter a number: \" ) br val  i = Conso...\n",
              "17843       Swift  print(\"Enter a string: \"!@#$%^&&^%$#@! termina...\n",
              "17844       Swift  print(\"Enter a string: \"!@#$%^&&^%$#@! termina...\n",
              "17845  UNIX Shell  #!/bin/sh br   br read  string br read  intege...\n",
              "17846         VBA  Public   Sub  text() br     Debug. Print  Inpu...\n",
              "\n",
              "[17847 rows x 2 columns]"
            ]
          },
          "metadata": {
            "tags": []
          },
          "execution_count": 17
        }
      ]
    },
    {
      "cell_type": "markdown",
      "metadata": {
        "id": "8isnaEKj7dLU"
      },
      "source": [
        "**PREPROCESSING**"
      ]
    },
    {
      "cell_type": "code",
      "metadata": {
        "id": "Dv7ktguew_52"
      },
      "source": [
        "def preprocess(text):\n",
        "    \"\"\"\n",
        "    Function to preprocess a row of text in dataframe\n",
        "\n",
        "    Parameters\n",
        "    ----------\n",
        "    text: str\n",
        "      a row of text to preprocess\n",
        "\n",
        "    Returns\n",
        "    -------\n",
        "    text: str\n",
        "      a row of preprocessed text\n",
        "    \"\"\"\n",
        "    #cast row as string\n",
        "    text = str(text)\n",
        "    #replace complex string for comma (complex string was used to avoid csv interpretting commas as new line)\n",
        "    text = text.replace('!@#$%^&&^%$#@!', ',')\n",
        "    #remove any characters that are non-english, not a number or not a puncutation mark or not a space\n",
        "    text = ''.join([t for t in text if t in string.printable or t in string.punctuation or t==' '])\n",
        "    return text"
      ],
      "execution_count": null,
      "outputs": []
    },
    {
      "cell_type": "code",
      "metadata": {
        "id": "InNvKx10w_54"
      },
      "source": [
        "#apply preprocessing to dataframe\n",
        "data['code_clean'] = data['code'].apply(preprocess)"
      ],
      "execution_count": null,
      "outputs": []
    },
    {
      "cell_type": "code",
      "metadata": {
        "id": "io8RUAY8w_58",
        "outputId": "3f429bd1-9246-486f-aaba-0e21e6031581",
        "colab": {
          "base_uri": "https://localhost:8080/"
        }
      },
      "source": [
        "data['code_clean']"
      ],
      "execution_count": null,
      "outputs": [
        {
          "output_type": "execute_result",
          "data": {
            "text/plain": [
              "0        #include <stdio.h> br #include <order/interpre...\n",
              "1        #include <stdio.h> br const   int  val  =   2 ...\n",
              "2        using   System ; br  br public   static   clas...\n",
              "3        . class   public  auto ansi  abstract   sealed...\n",
              "4        using   System ; br  br static   class  Progra...\n",
              "                               ...                        \n",
              "17842    print ( \"Enter a number: \" ) br val  i = Conso...\n",
              "17843    print(\"Enter a string: \", terminator: \"\") br i...\n",
              "17844    print(\"Enter a string: \", terminator: \"\") br g...\n",
              "17845    #!/bin/sh br  br read  string br read  integer...\n",
              "17846    Public   Sub  text() br     Debug. Print  Inpu...\n",
              "Name: code_clean, Length: 17847, dtype: object"
            ]
          },
          "metadata": {
            "tags": []
          },
          "execution_count": 20
        }
      ]
    },
    {
      "cell_type": "code",
      "metadata": {
        "id": "NdxgiAT_w_6B"
      },
      "source": [
        "#drop rows with missing values\n",
        "data = data.dropna()"
      ],
      "execution_count": null,
      "outputs": []
    },
    {
      "cell_type": "code",
      "metadata": {
        "id": "7abDOj94w_6E",
        "outputId": "1170110c-048c-4035-e2ec-5c7604bb5cbe",
        "colab": {
          "base_uri": "https://localhost:8080/"
        }
      },
      "source": [
        "data['language'].value_counts()"
      ],
      "execution_count": null,
      "outputs": [
        {
          "output_type": "execute_result",
          "data": {
            "text/plain": [
              "Python        2156\n",
              "Go            1451\n",
              "C             1422\n",
              "Ruby          1363\n",
              "Java          1332\n",
              "JavaScript    1320\n",
              "Julia         1291\n",
              "C++           1226\n",
              "C#            1133\n",
              "Scala         1083\n",
              "PowerShell     869\n",
              "R              735\n",
              "Swift          626\n",
              "UNIX Shell     563\n",
              "PHP            563\n",
              "VBA            364\n",
              "MATLAB         249\n",
              "SQL             94\n",
              "Name: language, dtype: int64"
            ]
          },
          "metadata": {
            "tags": []
          },
          "execution_count": 22
        }
      ]
    },
    {
      "cell_type": "code",
      "metadata": {
        "id": "L-AnQaZ1w_6J",
        "outputId": "a5095566-a441-4884-8701-aabc8b529e09",
        "colab": {
          "base_uri": "https://localhost:8080/"
        }
      },
      "source": [
        "#label encoding the target variable\n",
        "encoder = LabelEncoder()\n",
        "data['language'] = encoder.fit_transform(data['language'])"
      ],
      "execution_count": null,
      "outputs": [
        {
          "output_type": "stream",
          "text": [
            "/usr/local/lib/python3.6/dist-packages/ipykernel_launcher.py:1: SettingWithCopyWarning: \n",
            "A value is trying to be set on a copy of a slice from a DataFrame.\n",
            "Try using .loc[row_indexer,col_indexer] = value instead\n",
            "\n",
            "See the caveats in the documentation: https://pandas.pydata.org/pandas-docs/stable/user_guide/indexing.html#returning-a-view-versus-a-copy\n",
            "  \"\"\"Entry point for launching an IPython kernel.\n"
          ],
          "name": "stderr"
        }
      ]
    },
    {
      "cell_type": "code",
      "metadata": {
        "id": "6m0Pl0oghfI-",
        "outputId": "d83c641f-fa11-44fb-9b1c-a0940a7b2b2b",
        "colab": {
          "base_uri": "https://localhost:8080/"
        }
      },
      "source": [
        "#saving the encoder as a pickle file\n",
        "with open(\"./drive/My Drive/encoder.p\", \"rb\") as f:\n",
        "  pickle.dump(encoder, f)"
      ],
      "execution_count": null,
      "outputs": [
        {
          "output_type": "stream",
          "text": [
            "/usr/local/lib/python3.6/dist-packages/sklearn/base.py:318: UserWarning: Trying to unpickle estimator LabelEncoder from version 0.21.2 when using version 0.22.2.post1. This might lead to breaking code or invalid results. Use at your own risk.\n",
            "  UserWarning)\n"
          ],
          "name": "stderr"
        }
      ]
    },
    {
      "cell_type": "code",
      "metadata": {
        "id": "7GqF3Qdmw_6L"
      },
      "source": [
        "#transforming dependent and independent variable to arrays\n",
        "X = data['code_clean'].values\n",
        "y = data['language'].values"
      ],
      "execution_count": null,
      "outputs": []
    },
    {
      "cell_type": "code",
      "metadata": {
        "id": "CjUQhyGRw_6N"
      },
      "source": [
        "#one-hot-encoding target variable\n",
        "y = to_categorical(y)"
      ],
      "execution_count": null,
      "outputs": []
    },
    {
      "cell_type": "code",
      "metadata": {
        "id": "0xHlCeRQw_6S"
      },
      "source": [
        "#creating training and testing sets\n",
        "X_train, X_test, Y_train, Y_test = train_test_split(X, y, test_size=0.25, stratify=y, random_state=42)"
      ],
      "execution_count": null,
      "outputs": []
    },
    {
      "cell_type": "code",
      "metadata": {
        "id": "BLClUCsSw_6V"
      },
      "source": [
        "#initializing character-level tokenizer\n",
        "tokenizer = text.Tokenizer(char_level=True, filters=None, lower=False, oov_token='OOV')"
      ],
      "execution_count": null,
      "outputs": []
    },
    {
      "cell_type": "code",
      "metadata": {
        "id": "3KRpPsj3w_6X"
      },
      "source": [
        "#fitting tokenizer on training data\n",
        "tokenizer.fit_on_texts(X_train)"
      ],
      "execution_count": null,
      "outputs": []
    },
    {
      "cell_type": "code",
      "metadata": {
        "id": "1qG3l5z0Jbr4"
      },
      "source": [
        "#saving tokenizer as pickle file\n",
        "with open('tokenizer.p', 'wb') as f:\n",
        "  pickle.dump(tokenizer, f)"
      ],
      "execution_count": null,
      "outputs": []
    },
    {
      "cell_type": "code",
      "metadata": {
        "id": "55uJ00jmw_6a"
      },
      "source": [
        "#creating sequences from training and testing data using tokenizer\n",
        "X_train_tokenized = tokenizer.texts_to_sequences(X_train)\n",
        "X_test_tokenized = tokenizer.texts_to_sequences(X_test)"
      ],
      "execution_count": null,
      "outputs": []
    },
    {
      "cell_type": "code",
      "metadata": {
        "id": "IUTViX6Sw_6r"
      },
      "source": [
        "#padding training and testing sequences to same length\n",
        "X_train_padded = sequence.pad_sequences(X_train_tokenized, maxlen=MAXLEN, padding='post')\n",
        "X_test_padded = sequence.pad_sequences(X_test_tokenized, maxlen=MAXLEN, padding='post')"
      ],
      "execution_count": null,
      "outputs": []
    },
    {
      "cell_type": "code",
      "metadata": {
        "id": "F-kr8wcIw_6u",
        "outputId": "c3790759-b988-408d-d0f4-23974cd205ad",
        "colab": {
          "base_uri": "https://localhost:8080/"
        }
      },
      "source": [
        "print(len(X_train_tokenized), len(X_test_tokenized))"
      ],
      "execution_count": null,
      "outputs": [
        {
          "output_type": "stream",
          "text": [
            "13380 4460\n"
          ],
          "name": "stdout"
        }
      ]
    },
    {
      "cell_type": "code",
      "metadata": {
        "id": "aFVCYn2cw_6l"
      },
      "source": [
        "#initalizing key parameters\n",
        "VOCAB_SIZE = len(tokenizer.word_index) + 1\n",
        "MAXLEN = 1024\n",
        "EPOCHS = 20\n",
        "BATCH_SIZE = 128\n",
        "OUTPUT_SIZE = len(encoder.classes_)"
      ],
      "execution_count": null,
      "outputs": []
    },
    {
      "cell_type": "markdown",
      "metadata": {
        "id": "LU9wuXoyw_6z"
      },
      "source": [
        "### Model Building"
      ]
    },
    {
      "cell_type": "code",
      "metadata": {
        "id": "OoCF4YQRw_60"
      },
      "source": [
        "#initalizing model layers\n",
        "input_layer = Input(shape=(MAXLEN,))\n",
        "emb_layer = Embedding(VOCAB_SIZE, MAXLEN)(input_layer)\n",
        "dropout_layer = SpatialDropout1D(0.5)(emb_layer)\n",
        "lstm = Bidirectional(CuDNNLSTM(128))(dropout_layer)\n",
        "fc = Dense(128, activation='relu')(lstm)\n",
        "fc2 = Dense(128, activation='relu')(fc)\n",
        "output_layer = Dense(OUTPUT_SIZE, activation='softmax')(fc2)"
      ],
      "execution_count": null,
      "outputs": []
    },
    {
      "cell_type": "code",
      "metadata": {
        "id": "y6cfJXUUw_62"
      },
      "source": [
        "#defining model inputs and outputs\n",
        "model = Model(inputs=[input_layer], outputs=[output_layer])"
      ],
      "execution_count": null,
      "outputs": []
    },
    {
      "cell_type": "code",
      "metadata": {
        "id": "0kaE-0zMw_68"
      },
      "source": [
        "#compile model\n",
        "prauc = AUC(curve='pr')\n",
        "model.compile(optimizer='adam', loss='categorical_crossentropy', metrics=['accuracy', prauc])"
      ],
      "execution_count": null,
      "outputs": []
    },
    {
      "cell_type": "code",
      "metadata": {
        "id": "vERiyRDIw_6_",
        "outputId": "5c6d063e-56eb-4f7d-8a3b-4b29a06f418a",
        "colab": {
          "base_uri": "https://localhost:8080/"
        }
      },
      "source": [
        "print(model.summary())"
      ],
      "execution_count": null,
      "outputs": [
        {
          "output_type": "stream",
          "text": [
            "Model: \"functional_21\"\n",
            "_________________________________________________________________\n",
            "Layer (type)                 Output Shape              Param #   \n",
            "=================================================================\n",
            "input_12 (InputLayer)        [(None, 1024)]            0         \n",
            "_________________________________________________________________\n",
            "embedding_11 (Embedding)     (None, 1024, 1024)        100352    \n",
            "_________________________________________________________________\n",
            "spatial_dropout1d_11 (Spatia (None, 1024, 1024)        0         \n",
            "_________________________________________________________________\n",
            "bidirectional_11 (Bidirectio (None, 256)               1181696   \n",
            "_________________________________________________________________\n",
            "dense_24 (Dense)             (None, 128)               32896     \n",
            "_________________________________________________________________\n",
            "dense_25 (Dense)             (None, 128)               16512     \n",
            "_________________________________________________________________\n",
            "dense_26 (Dense)             (None, 18)                2322      \n",
            "=================================================================\n",
            "Total params: 1,333,778\n",
            "Trainable params: 1,333,778\n",
            "Non-trainable params: 0\n",
            "_________________________________________________________________\n",
            "None\n"
          ],
          "name": "stdout"
        }
      ]
    },
    {
      "cell_type": "code",
      "metadata": {
        "id": "x4GA0s2jw_7B",
        "outputId": "f36d2839-e7c8-41fc-80f0-2b5cb2cb6559",
        "colab": {
          "base_uri": "https://localhost:8080/"
        }
      },
      "source": [
        "#training model\n",
        "history = model.fit(X_train_padded, \n",
        "                    Y_train, \n",
        "                    validation_data=(X_test_padded, Y_test), \n",
        "                    epochs=EPOCHS, \n",
        "                    batch_size=BATCH_SIZE, \n",
        "                    shuffle=True, \n",
        "                    use_multiprocessing=True)"
      ],
      "execution_count": null,
      "outputs": [
        {
          "output_type": "stream",
          "text": [
            "Epoch 1/20\n",
            "105/105 [==============================] - 68s 644ms/step - loss: 2.1091 - accuracy: 0.3321 - auc_10: 0.3554 - val_loss: 1.5173 - val_accuracy: 0.5085 - val_auc_10: 0.5661\n",
            "Epoch 2/20\n",
            "105/105 [==============================] - 67s 639ms/step - loss: 1.2674 - accuracy: 0.5848 - auc_10: 0.6558 - val_loss: 1.1100 - val_accuracy: 0.6271 - val_auc_10: 0.7144\n",
            "Epoch 3/20\n",
            "105/105 [==============================] - 67s 637ms/step - loss: 0.9746 - accuracy: 0.6765 - auc_10: 0.7646 - val_loss: 0.9621 - val_accuracy: 0.6823 - val_auc_10: 0.7626\n",
            "Epoch 4/20\n",
            "105/105 [==============================] - 67s 641ms/step - loss: 0.8538 - accuracy: 0.7158 - auc_10: 0.8090 - val_loss: 0.8445 - val_accuracy: 0.7271 - val_auc_10: 0.8185\n",
            "Epoch 5/20\n",
            "105/105 [==============================] - 68s 643ms/step - loss: 0.7130 - accuracy: 0.7629 - auc_10: 0.8569 - val_loss: 0.7491 - val_accuracy: 0.7590 - val_auc_10: 0.8496\n",
            "Epoch 6/20\n",
            "105/105 [==============================] - 67s 641ms/step - loss: 0.6355 - accuracy: 0.7889 - auc_10: 0.8819 - val_loss: 0.7044 - val_accuracy: 0.7711 - val_auc_10: 0.8627\n",
            "Epoch 7/20\n",
            "105/105 [==============================] - 67s 640ms/step - loss: 0.5923 - accuracy: 0.8036 - auc_10: 0.8935 - val_loss: 0.6588 - val_accuracy: 0.7821 - val_auc_10: 0.8772\n",
            "Epoch 8/20\n",
            "105/105 [==============================] - 68s 643ms/step - loss: 0.5123 - accuracy: 0.8317 - auc_10: 0.9167 - val_loss: 0.6304 - val_accuracy: 0.7960 - val_auc_10: 0.8853\n",
            "Epoch 9/20\n",
            "105/105 [==============================] - 68s 646ms/step - loss: 0.4863 - accuracy: 0.8392 - auc_10: 0.9222 - val_loss: 0.6674 - val_accuracy: 0.7798 - val_auc_10: 0.8769\n",
            "Epoch 10/20\n",
            "105/105 [==============================] - 68s 644ms/step - loss: 0.4425 - accuracy: 0.8527 - auc_10: 0.9335 - val_loss: 0.5640 - val_accuracy: 0.8135 - val_auc_10: 0.9052\n",
            "Epoch 11/20\n",
            "105/105 [==============================] - 68s 647ms/step - loss: 0.4218 - accuracy: 0.8595 - auc_10: 0.9381 - val_loss: 0.6250 - val_accuracy: 0.8002 - val_auc_10: 0.8884\n",
            "Epoch 12/20\n",
            "105/105 [==============================] - 68s 645ms/step - loss: 0.4376 - accuracy: 0.8565 - auc_10: 0.9355 - val_loss: 0.6965 - val_accuracy: 0.7769 - val_auc_10: 0.8710\n",
            "Epoch 13/20\n",
            "105/105 [==============================] - 68s 646ms/step - loss: 0.3890 - accuracy: 0.8703 - auc_10: 0.9465 - val_loss: 0.5504 - val_accuracy: 0.8307 - val_auc_10: 0.9112\n",
            "Epoch 14/20\n",
            "105/105 [==============================] - 68s 647ms/step - loss: 0.2983 - accuracy: 0.8991 - auc_10: 0.9652 - val_loss: 0.5344 - val_accuracy: 0.8348 - val_auc_10: 0.9151\n",
            "Epoch 15/20\n",
            "105/105 [==============================] - 68s 647ms/step - loss: 0.2683 - accuracy: 0.9082 - auc_10: 0.9710 - val_loss: 0.5188 - val_accuracy: 0.8469 - val_auc_10: 0.9210\n",
            "Epoch 16/20\n",
            "105/105 [==============================] - 68s 646ms/step - loss: 0.2895 - accuracy: 0.9065 - auc_10: 0.9660 - val_loss: 0.5493 - val_accuracy: 0.8368 - val_auc_10: 0.9133\n",
            "Epoch 17/20\n",
            "105/105 [==============================] - 68s 647ms/step - loss: 0.2257 - accuracy: 0.9209 - auc_10: 0.9782 - val_loss: 0.5453 - val_accuracy: 0.8424 - val_auc_10: 0.9197\n",
            "Epoch 18/20\n",
            "105/105 [==============================] - 68s 648ms/step - loss: 0.2285 - accuracy: 0.9208 - auc_10: 0.9775 - val_loss: 0.5276 - val_accuracy: 0.8469 - val_auc_10: 0.9222\n",
            "Epoch 19/20\n",
            "105/105 [==============================] - 68s 645ms/step - loss: 0.1921 - accuracy: 0.9345 - auc_10: 0.9837 - val_loss: 0.5359 - val_accuracy: 0.8552 - val_auc_10: 0.9239\n",
            "Epoch 20/20\n",
            "105/105 [==============================] - 68s 647ms/step - loss: 0.1547 - accuracy: 0.9484 - auc_10: 0.9888 - val_loss: 0.5379 - val_accuracy: 0.8525 - val_auc_10: 0.9228\n"
          ],
          "name": "stdout"
        }
      ]
    },
    {
      "cell_type": "code",
      "metadata": {
        "id": "7NWaiVQdBGqx",
        "outputId": "cb971e0e-7788-41e4-f18d-18a2dbc5813f",
        "colab": {
          "base_uri": "https://localhost:8080/",
          "height": 609
        }
      },
      "source": [
        "#plotting classification metrics on training and testing sets\n",
        "pd.DataFrame(history.history).plot(figsize=(10, 10))"
      ],
      "execution_count": null,
      "outputs": [
        {
          "output_type": "execute_result",
          "data": {
            "text/plain": [
              "<matplotlib.axes._subplots.AxesSubplot at 0x7f1eb8433080>"
            ]
          },
          "metadata": {
            "tags": []
          },
          "execution_count": 131
        },
        {
          "output_type": "display_data",
          "data": {
            "image/png": "[encoded data removed]",
            "text/plain": [
              "<Figure size 720x720 with 1 Axes>"
            ]
          },
          "metadata": {
            "tags": [],
            "needs_background": "light"
          }
        }
      ]
    },
    {
      "cell_type": "markdown",
      "metadata": {
        "id": "uMy28DoI90XT"
      },
      "source": [
        "**SAVING MODEL**"
      ]
    },
    {
      "cell_type": "code",
      "metadata": {
        "id": "ij7YapsHlpR7"
      },
      "source": [
        "#extacting model architecture in JSON format\n",
        "json_model = model.to_json()"
      ],
      "execution_count": null,
      "outputs": []
    },
    {
      "cell_type": "code",
      "metadata": {
        "id": "OGB8g97hlt9-"
      },
      "source": [
        "#saving model architecture into JSON file\n",
        "with open(\"./drive/My Drive/model_architecture.json\", 'w') as json_file:\n",
        "  json_file.write(json_model)"
      ],
      "execution_count": null,
      "outputs": []
    },
    {
      "cell_type": "code",
      "metadata": {
        "id": "PUJhHMQnluA0"
      },
      "source": [
        "#saving model weights\n",
        "model.save_weights('./drive/My Drive/model_weights.h5')"
      ],
      "execution_count": null,
      "outputs": []
    },
    {
      "cell_type": "markdown",
      "metadata": {
        "id": "Oe1BFVG494uB"
      },
      "source": [
        "**MODEL EVALUTION**"
      ]
    },
    {
      "cell_type": "code",
      "metadata": {
        "id": "omZzmgEYw_7H"
      },
      "source": [
        "#predicting test set\n",
        "Y_pred = model.predict(X_test_padded)"
      ],
      "execution_count": null,
      "outputs": []
    },
    {
      "cell_type": "code",
      "metadata": {
        "id": "UT_QC3fFw_7J"
      },
      "source": [
        "#getting top prediction for each observation\n",
        "Y_pred2 = [np.argmax(x) for x in Y_pred]\n",
        "Y_test2 = [np.argmax(x) for x in Y_test]\n",
        "labels = list(encoder.classes_)"
      ],
      "execution_count": null,
      "outputs": []
    },
    {
      "cell_type": "code",
      "metadata": {
        "id": "-Us8cYJaw_7L",
        "outputId": "201cc59d-8f6f-4261-b1cc-8baefa271e59",
        "colab": {
          "base_uri": "https://localhost:8080/",
          "height": 331
        }
      },
      "source": [
        "#plotting confusion matrix\n",
        "sns.heatmap(confusion_matrix(Y_test2, Y_pred2), annot=True, fmt='g', xticklabels=labels, yticklabels=labels)"
      ],
      "execution_count": null,
      "outputs": [
        {
          "output_type": "execute_result",
          "data": {
            "text/plain": [
              "<matplotlib.axes._subplots.AxesSubplot at 0x7f1ff2a71128>"
            ]
          },
          "metadata": {
            "tags": []
          },
          "execution_count": 135
        },
        {
          "output_type": "display_data",
          "data": {
            "image/png": "[encoded data removed]",
            "text/plain": [
              "<Figure size 432x288 with 2 Axes>"
            ]
          },
          "metadata": {
            "tags": [],
            "needs_background": "light"
          }
        }
      ]
    },
    {
      "cell_type": "code",
      "metadata": {
        "id": "CRAoFCvqJuxA"
      },
      "source": [
        ""
      ],
      "execution_count": null,
      "outputs": []
    }
  ]
}